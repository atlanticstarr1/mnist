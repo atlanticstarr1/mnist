{
  "cells": [
    {
      "cell_type": "markdown",
      "metadata": {
        "id": "view-in-github",
        "colab_type": "text"
      },
      "source": [
        "<a href=\"https://colab.research.google.com/github/atlanticstarr1/mnist/blob/main/mnist_resnet50v2.ipynb\" target=\"_parent\"><img src=\"https://colab.research.google.com/assets/colab-badge.svg\" alt=\"Open In Colab\"/></a>"
      ]
    },
    {
      "cell_type": "code",
      "execution_count": null,
      "metadata": {
        "id": "5t47LstkPKRU"
      },
      "outputs": [],
      "source": [
        "# REFERENCES (REALLY GOOD)\n",
        "# https://keras.io/examples/vision/consistency_training/\n",
        "# https://github.com/keras-team/keras-io/blob/master/examples/vision/adamatch.py\n",
        "# https://github.com/keras-team/keras-io/blob/master/examples/vision/ipynb/adamatch.ipynb"
      ]
    },
    {
      "cell_type": "markdown",
      "metadata": {
        "id": "gzwXtqmLPI9j"
      },
      "source": []
    },
    {
      "cell_type": "code",
      "execution_count": null,
      "metadata": {
        "id": "Xw1f9qFVhcx0"
      },
      "outputs": [],
      "source": [
        "#%pip install keras-cv\n",
        "#%pip install --upgrade tensorflow\n",
        "#%pip install tensorflow-addons"
      ]
    },
    {
      "cell_type": "code",
      "execution_count": null,
      "metadata": {
        "id": "4-AkpOUHniRS"
      },
      "outputs": [],
      "source": [
        "import tensorflow as tf\n",
        "tf.random.set_seed(42)\n",
        "import numpy as np\n",
        "from tensorflow import keras\n",
        "import tensorflow_addons as tfa\n",
        "from tensorflow.keras import layers\n",
        "from tensorflow.keras import regularizers\n",
        "from keras_cv.layers import RandAugment\n",
        "from keras.utils import np_utils\n",
        "import matplotlib.pyplot as plt\n",
        "from sklearn.model_selection import train_test_split\n",
        "\n",
        "%matplotlib inline"
      ]
    },
    {
      "cell_type": "code",
      "execution_count": null,
      "metadata": {
        "id": "QsO4FHyyplAy"
      },
      "outputs": [],
      "source": [
        "NUM_CLASSES = 10\n",
        "\n",
        "def Xform(x):\n",
        "    return x.reshape(-1, 28, 28, 1).astype('float32')/255.0"
      ]
    },
    {
      "cell_type": "code",
      "execution_count": null,
      "metadata": {
        "colab": {
          "base_uri": "https://localhost:8080/",
          "height": 34
        },
        "id": "K4hDQH8x8wQQ",
        "outputId": "0a928d19-d9dc-40aa-bdfd-534ae9a11452"
      },
      "outputs": [
        {
          "data": {
            "text/plain": [
              "<Figure size 432x288 with 0 Axes>"
            ]
          },
          "metadata": {},
          "output_type": "display_data"
        }
      ],
      "source": [
        "def visualize_images(images, labels,columns=5,rows=5):\n",
        "  labels_map = {0: 'T-Shirt', 1: 'Trouser', 2: 'Pullover', 3: 'Dress', 4: 'Coat', \n",
        "              5: 'Sandal', 6: 'Shirt', 7: 'Sneaker', 8: 'Bag', 9: 'Ankle Boot'}\n",
        "  plt.figure(figsize=(2*columns,2*rows))\n",
        "  for i in range(1, columns * rows+1):\n",
        "    ax = plt.subplot(rows, columns, i)\n",
        "    plt.title(labels_map[np.argmax(labels[i])])\n",
        "    plt.axis(\"off\")\n",
        "    plt.imshow(images[i],cmap='gray')\n",
        "plt.tight_layout()\n",
        "plt.show()"
      ]
    },
    {
      "cell_type": "code",
      "execution_count": null,
      "metadata": {
        "id": "Ojya1f62nmMp"
      },
      "outputs": [],
      "source": [
        "# MNIST\n",
        "(x_train, y_train),(x_test, y_test) = keras.datasets.mnist.load_data()\n",
        "\n",
        "# Names of the integer classes, i.e., 0 -> T-short/top, 1 -> Trouser, etc.\n",
        "class_names = ['0', '1', '2', '3', '4', '5', '6', '7', '8', '']\n",
        "\n",
        "# split into train validaiton sets\n",
        "x_train, x_validate, y_train, y_validate = train_test_split(x_train, y_train, test_size=0.2,random_state=1)"
      ]
    },
    {
      "cell_type": "code",
      "execution_count": null,
      "metadata": {
        "id": "2jLtlft5nyxi"
      },
      "outputs": [],
      "source": [
        "# Add channel dimension and normalize\n",
        "x_train = Xform(x_train)\n",
        "x_validate = Xform(x_validate)\n",
        "x_test =  Xform(x_test)"
      ]
    },
    {
      "cell_type": "code",
      "execution_count": null,
      "metadata": {
        "id": "KbqssH7vn2nR"
      },
      "outputs": [],
      "source": [
        "# Convert the labels to one-hot encoded vectors\n",
        "y_train = np_utils.to_categorical(y_train, NUM_CLASSES)\n",
        "y_validate = np_utils.to_categorical(y_validate, NUM_CLASSES)\n",
        "y_test = np_utils.to_categorical(y_test, NUM_CLASSES)"
      ]
    },
    {
      "cell_type": "code",
      "execution_count": null,
      "metadata": {
        "id": "w-ooTPh-rI4v"
      },
      "outputs": [],
      "source": [
        "## Define constants and hyperparameters\n",
        "RESIZE_TO = 32\n",
        "BATCH_SIZE = 128\n",
        "EPOCHS = 10\n",
        "STEPS_PER_EPOCH = len(x_train) // BATCH_SIZE\n",
        "TOTAL_STEPS = EPOCHS * STEPS_PER_EPOCH\n",
        "AUTO = tf.data.AUTOTUNE\n",
        "LEARNING_RATE = 0.03\n",
        "WEIGHT_DECAY = 0.0005\n",
        "INIT = \"he_normal\""
      ]
    },
    {
      "cell_type": "code",
      "execution_count": null,
      "metadata": {
        "id": "6UHNfA_crVPC"
      },
      "outputs": [],
      "source": [
        "# Initialize `RandAugment` object with 2 layers of\n",
        "# augmentation transforms and strength of 5.\n",
        "augmenter = RandAugment(value_range=(0, 1), augmentations_per_image=3, magnitude=0.9)"
      ]
    },
    {
      "cell_type": "code",
      "execution_count": null,
      "metadata": {
        "id": "vWhGebMIrbyG"
      },
      "outputs": [],
      "source": [
        "def preprocess_train(image):\n",
        "    # MNIST images are grayscale, this is why we first convert them to\n",
        "    # RGB images.\n",
        "    image = tf.image.resize_with_pad(image, RESIZE_TO, RESIZE_TO)\n",
        "    image = tf.tile(image, [1, 1, 3])\n",
        "    image = augmenter(image)\n",
        "    return image"
      ]
    },
    {
      "cell_type": "code",
      "execution_count": null,
      "metadata": {
        "id": "0GN8HWUgAPsZ"
      },
      "outputs": [],
      "source": [
        "def preprocess_test(image):\n",
        "    image = tf.image.resize_with_pad(image, RESIZE_TO, RESIZE_TO)\n",
        "    image = tf.tile(image, [1, 1, 3])\n",
        "    return image"
      ]
    },
    {
      "cell_type": "code",
      "execution_count": null,
      "metadata": {
        "id": "th_z2erHr4CW"
      },
      "outputs": [],
      "source": [
        "## Data loading utilities\n",
        "def create_individual_ds(ds, aug_func, shuffle=True):\n",
        "  if shuffle:\n",
        "    ds = ds.shuffle(BATCH_SIZE * 10, seed=42)\n",
        "  ds = ds.map(lambda x, y: (aug_func(x), y), num_parallel_calls=AUTO)\n",
        "  ds = ds.batch(BATCH_SIZE).prefetch(AUTO)\n",
        "  return ds"
      ]
    },
    {
      "cell_type": "code",
      "execution_count": null,
      "metadata": {
        "id": "ukkXV9K_tO1M"
      },
      "outputs": [],
      "source": [
        "train_ds = tf.data.Dataset.from_tensor_slices((x_train, y_train))\n",
        "validation_ds = tf.data.Dataset.from_tensor_slices((x_validate, y_validate))\n",
        "test_ds = tf.data.Dataset.from_tensor_slices((x_test, y_test))"
      ]
    },
    {
      "cell_type": "code",
      "execution_count": null,
      "metadata": {
        "id": "VQby_zw09fPL"
      },
      "outputs": [],
      "source": [
        "train_clean_ds = create_individual_ds(train_ds, preprocess_test)  #no augment\n",
        "train_noisy_ds = create_individual_ds(train_ds, preprocess_train) #augment\n",
        "validation_ds = create_individual_ds(validation_ds, preprocess_test,False)\n",
        "test_ds = create_individual_ds(test_ds, preprocess_test,False)"
      ]
    },
    {
      "cell_type": "code",
      "execution_count": null,
      "metadata": {
        "colab": {
          "base_uri": "https://localhost:8080/",
          "height": 1000
        },
        "id": "fO0mHVJqHPmN",
        "outputId": "fe1498e5-fd10-48b4-b746-c3c11164bbba"
      },
      "outputs": [
        {
          "data": {
            "image/png": "[encoded data removed]",
            "text/plain": [
              "<Figure size 720x720 with 9 Axes>"
            ]
          },
          "metadata": {
            "needs_background": "light"
          },
          "output_type": "display_data"
        },
        {
          "data": {
            "image/png": "[encoded data removed]",
            "text/plain": [
              "<Figure size 720x720 with 9 Axes>"
            ]
          },
          "metadata": {
            "needs_background": "light"
          },
          "output_type": "display_data"
        }
      ],
      "source": [
        "# Visualize the datasets}\n",
        "sample_images, sample_labels = next(iter(train_clean_ds))\n",
        "plt.figure(figsize=(10, 10))\n",
        "for i, image in enumerate(sample_images[:9]):\n",
        "    ax = plt.subplot(3, 3, i + 1)\n",
        "    plt.imshow(image)\n",
        "    plt.axis(\"off\")\n",
        "\n",
        "sample_images, sample_labels = next(iter(train_noisy_ds))\n",
        "plt.figure(figsize=(10, 10))\n",
        "for i, image in enumerate(sample_images[:9]):\n",
        "    ax = plt.subplot(3, 3, i + 1)\n",
        "    plt.imshow(image)\n",
        "    plt.axis(\"off\")"
      ]
    },
    {
      "cell_type": "code",
      "execution_count": null,
      "metadata": {
        "id": "HAk4feO0M5pd"
      },
      "outputs": [],
      "source": [
        "# Define a model building utility function (ResNet50V2 architecture)\n",
        "def get_training_model(num_classes=10):\n",
        "    resnet50_v2 = tf.keras.applications.ResNet50V2(\n",
        "        weights=None, include_top=False, input_shape=(RESIZE_TO, RESIZE_TO, 3),\n",
        "    )\n",
        "    model = tf.keras.Sequential(\n",
        "        [\n",
        "            layers.Input((RESIZE_TO, RESIZE_TO, 3)),\n",
        "            layers.Rescaling(scale=1.0 / 255.0),\n",
        "            resnet50_v2,\n",
        "            layers.GlobalAveragePooling2D(),\n",
        "            layers.Dense(num_classes),\n",
        "        ]\n",
        "    )\n",
        "    return model"
      ]
    },
    {
      "cell_type": "code",
      "execution_count": null,
      "metadata": {
        "id": "Cz6DBVzCOH20"
      },
      "outputs": [],
      "source": [
        "# save initial weights\n",
        "initial_teacher_model = get_training_model()\n",
        "initial_teacher_model.save_weights(\"initial_teacher_model.h5\")"
      ]
    },
    {
      "cell_type": "code",
      "execution_count": null,
      "metadata": {
        "colab": {
          "base_uri": "https://localhost:8080/",
          "height": 1000
        },
        "id": "SjBswYHlOU5Q",
        "outputId": "f57a51c1-9859-4ff5-c322-a43b5984524d"
      },
      "outputs": [
        {
          "name": "stdout",
          "output_type": "stream",
          "text": [
            "Epoch 1/10\n",
            " 30/375 [=>............................] - ETA: 56s - loss: 1.2554 - accuracy: 0.6227"
          ]
        },
        {
          "ename": "KeyboardInterrupt",
          "evalue": "",
          "output_type": "error",
          "traceback": [
            "\u001b[1;31m---------------------------------------------------------------------------\u001b[0m",
            "\u001b[1;31mKeyboardInterrupt\u001b[0m                         Traceback (most recent call last)",
            "\u001b[1;32mc:\\Users\\David\\Downloads\\mnist_resnet50v2.ipynb Cell 20\u001b[0m in \u001b[0;36m<cell line: 27>\u001b[1;34m()\u001b[0m\n\u001b[0;32m     <a href='vscode-notebook-cell:/c%3A/Users/David/Downloads/mnist_resnet50v2.ipynb#X26sZmlsZQ%3D%3D?line=19'>20</a>\u001b[0m teacher_model\u001b[39m.\u001b[39mload_weights(\u001b[39m\"\u001b[39m\u001b[39minitial_teacher_model.h5\u001b[39m\u001b[39m\"\u001b[39m)\n\u001b[0;32m     <a href='vscode-notebook-cell:/c%3A/Users/David/Downloads/mnist_resnet50v2.ipynb#X26sZmlsZQ%3D%3D?line=20'>21</a>\u001b[0m teacher_model\u001b[39m.\u001b[39mcompile(\n\u001b[0;32m     <a href='vscode-notebook-cell:/c%3A/Users/David/Downloads/mnist_resnet50v2.ipynb#X26sZmlsZQ%3D%3D?line=21'>22</a>\u001b[0m     \u001b[39m# Notice that we are wrapping our optimizer within SWA\u001b[39;00m\n\u001b[0;32m     <a href='vscode-notebook-cell:/c%3A/Users/David/Downloads/mnist_resnet50v2.ipynb#X26sZmlsZQ%3D%3D?line=22'>23</a>\u001b[0m     optimizer\u001b[39m=\u001b[39mSWA(tf\u001b[39m.\u001b[39mkeras\u001b[39m.\u001b[39moptimizers\u001b[39m.\u001b[39mAdam()),\n\u001b[0;32m     <a href='vscode-notebook-cell:/c%3A/Users/David/Downloads/mnist_resnet50v2.ipynb#X26sZmlsZQ%3D%3D?line=23'>24</a>\u001b[0m     loss\u001b[39m=\u001b[39mtf\u001b[39m.\u001b[39mkeras\u001b[39m.\u001b[39mlosses\u001b[39m.\u001b[39mCategoricalCrossentropy(from_logits\u001b[39m=\u001b[39m\u001b[39mTrue\u001b[39;00m),\n\u001b[0;32m     <a href='vscode-notebook-cell:/c%3A/Users/David/Downloads/mnist_resnet50v2.ipynb#X26sZmlsZQ%3D%3D?line=24'>25</a>\u001b[0m     metrics\u001b[39m=\u001b[39m[\u001b[39m\"\u001b[39m\u001b[39maccuracy\u001b[39m\u001b[39m\"\u001b[39m],\n\u001b[0;32m     <a href='vscode-notebook-cell:/c%3A/Users/David/Downloads/mnist_resnet50v2.ipynb#X26sZmlsZQ%3D%3D?line=25'>26</a>\u001b[0m )\n\u001b[1;32m---> <a href='vscode-notebook-cell:/c%3A/Users/David/Downloads/mnist_resnet50v2.ipynb#X26sZmlsZQ%3D%3D?line=26'>27</a>\u001b[0m history \u001b[39m=\u001b[39m teacher_model\u001b[39m.\u001b[39;49mfit(\n\u001b[0;32m     <a href='vscode-notebook-cell:/c%3A/Users/David/Downloads/mnist_resnet50v2.ipynb#X26sZmlsZQ%3D%3D?line=27'>28</a>\u001b[0m     train_noisy_ds,\n\u001b[0;32m     <a href='vscode-notebook-cell:/c%3A/Users/David/Downloads/mnist_resnet50v2.ipynb#X26sZmlsZQ%3D%3D?line=28'>29</a>\u001b[0m     epochs\u001b[39m=\u001b[39;49mEPOCHS,\n\u001b[0;32m     <a href='vscode-notebook-cell:/c%3A/Users/David/Downloads/mnist_resnet50v2.ipynb#X26sZmlsZQ%3D%3D?line=29'>30</a>\u001b[0m     validation_data\u001b[39m=\u001b[39;49mvalidation_ds,\n\u001b[0;32m     <a href='vscode-notebook-cell:/c%3A/Users/David/Downloads/mnist_resnet50v2.ipynb#X26sZmlsZQ%3D%3D?line=30'>31</a>\u001b[0m     callbacks\u001b[39m=\u001b[39;49m[reduce_lr, early_stopping,model_checkpoint],\n\u001b[0;32m     <a href='vscode-notebook-cell:/c%3A/Users/David/Downloads/mnist_resnet50v2.ipynb#X26sZmlsZQ%3D%3D?line=31'>32</a>\u001b[0m )\n",
            "File \u001b[1;32mc:\\Users\\David\\anaconda3\\lib\\site-packages\\keras\\utils\\traceback_utils.py:65\u001b[0m, in \u001b[0;36mfilter_traceback.<locals>.error_handler\u001b[1;34m(*args, **kwargs)\u001b[0m\n\u001b[0;32m     63\u001b[0m filtered_tb \u001b[39m=\u001b[39m \u001b[39mNone\u001b[39;00m\n\u001b[0;32m     64\u001b[0m \u001b[39mtry\u001b[39;00m:\n\u001b[1;32m---> 65\u001b[0m     \u001b[39mreturn\u001b[39;00m fn(\u001b[39m*\u001b[39margs, \u001b[39m*\u001b[39m\u001b[39m*\u001b[39mkwargs)\n\u001b[0;32m     66\u001b[0m \u001b[39mexcept\u001b[39;00m \u001b[39mException\u001b[39;00m \u001b[39mas\u001b[39;00m e:\n\u001b[0;32m     67\u001b[0m     filtered_tb \u001b[39m=\u001b[39m _process_traceback_frames(e\u001b[39m.\u001b[39m__traceback__)\n",
            "File \u001b[1;32mc:\\Users\\David\\anaconda3\\lib\\site-packages\\keras\\engine\\training.py:1564\u001b[0m, in \u001b[0;36mModel.fit\u001b[1;34m(self, x, y, batch_size, epochs, verbose, callbacks, validation_split, validation_data, shuffle, class_weight, sample_weight, initial_epoch, steps_per_epoch, validation_steps, validation_batch_size, validation_freq, max_queue_size, workers, use_multiprocessing)\u001b[0m\n\u001b[0;32m   1556\u001b[0m \u001b[39mwith\u001b[39;00m tf\u001b[39m.\u001b[39mprofiler\u001b[39m.\u001b[39mexperimental\u001b[39m.\u001b[39mTrace(\n\u001b[0;32m   1557\u001b[0m     \u001b[39m\"\u001b[39m\u001b[39mtrain\u001b[39m\u001b[39m\"\u001b[39m,\n\u001b[0;32m   1558\u001b[0m     epoch_num\u001b[39m=\u001b[39mepoch,\n\u001b[1;32m   (...)\u001b[0m\n\u001b[0;32m   1561\u001b[0m     _r\u001b[39m=\u001b[39m\u001b[39m1\u001b[39m,\n\u001b[0;32m   1562\u001b[0m ):\n\u001b[0;32m   1563\u001b[0m     callbacks\u001b[39m.\u001b[39mon_train_batch_begin(step)\n\u001b[1;32m-> 1564\u001b[0m     tmp_logs \u001b[39m=\u001b[39m \u001b[39mself\u001b[39;49m\u001b[39m.\u001b[39;49mtrain_function(iterator)\n\u001b[0;32m   1565\u001b[0m     \u001b[39mif\u001b[39;00m data_handler\u001b[39m.\u001b[39mshould_sync:\n\u001b[0;32m   1566\u001b[0m         context\u001b[39m.\u001b[39masync_wait()\n",
            "File \u001b[1;32mc:\\Users\\David\\anaconda3\\lib\\site-packages\\tensorflow\\python\\util\\traceback_utils.py:150\u001b[0m, in \u001b[0;36mfilter_traceback.<locals>.error_handler\u001b[1;34m(*args, **kwargs)\u001b[0m\n\u001b[0;32m    148\u001b[0m filtered_tb \u001b[39m=\u001b[39m \u001b[39mNone\u001b[39;00m\n\u001b[0;32m    149\u001b[0m \u001b[39mtry\u001b[39;00m:\n\u001b[1;32m--> 150\u001b[0m   \u001b[39mreturn\u001b[39;00m fn(\u001b[39m*\u001b[39margs, \u001b[39m*\u001b[39m\u001b[39m*\u001b[39mkwargs)\n\u001b[0;32m    151\u001b[0m \u001b[39mexcept\u001b[39;00m \u001b[39mException\u001b[39;00m \u001b[39mas\u001b[39;00m e:\n\u001b[0;32m    152\u001b[0m   filtered_tb \u001b[39m=\u001b[39m _process_traceback_frames(e\u001b[39m.\u001b[39m__traceback__)\n",
            "File \u001b[1;32mc:\\Users\\David\\anaconda3\\lib\\site-packages\\tensorflow\\python\\eager\\def_function.py:915\u001b[0m, in \u001b[0;36mFunction.__call__\u001b[1;34m(self, *args, **kwds)\u001b[0m\n\u001b[0;32m    912\u001b[0m compiler \u001b[39m=\u001b[39m \u001b[39m\"\u001b[39m\u001b[39mxla\u001b[39m\u001b[39m\"\u001b[39m \u001b[39mif\u001b[39;00m \u001b[39mself\u001b[39m\u001b[39m.\u001b[39m_jit_compile \u001b[39melse\u001b[39;00m \u001b[39m\"\u001b[39m\u001b[39mnonXla\u001b[39m\u001b[39m\"\u001b[39m\n\u001b[0;32m    914\u001b[0m \u001b[39mwith\u001b[39;00m OptionalXlaContext(\u001b[39mself\u001b[39m\u001b[39m.\u001b[39m_jit_compile):\n\u001b[1;32m--> 915\u001b[0m   result \u001b[39m=\u001b[39m \u001b[39mself\u001b[39m\u001b[39m.\u001b[39m_call(\u001b[39m*\u001b[39margs, \u001b[39m*\u001b[39m\u001b[39m*\u001b[39mkwds)\n\u001b[0;32m    917\u001b[0m new_tracing_count \u001b[39m=\u001b[39m \u001b[39mself\u001b[39m\u001b[39m.\u001b[39mexperimental_get_tracing_count()\n\u001b[0;32m    918\u001b[0m without_tracing \u001b[39m=\u001b[39m (tracing_count \u001b[39m==\u001b[39m new_tracing_count)\n",
            "File \u001b[1;32mc:\\Users\\David\\anaconda3\\lib\\site-packages\\tensorflow\\python\\eager\\def_function.py:947\u001b[0m, in \u001b[0;36mFunction._call\u001b[1;34m(self, *args, **kwds)\u001b[0m\n\u001b[0;32m    944\u001b[0m   \u001b[39mself\u001b[39m\u001b[39m.\u001b[39m_lock\u001b[39m.\u001b[39mrelease()\n\u001b[0;32m    945\u001b[0m   \u001b[39m# In this case we have created variables on the first call, so we run the\u001b[39;00m\n\u001b[0;32m    946\u001b[0m   \u001b[39m# defunned version which is guaranteed to never create variables.\u001b[39;00m\n\u001b[1;32m--> 947\u001b[0m   \u001b[39mreturn\u001b[39;00m \u001b[39mself\u001b[39m\u001b[39m.\u001b[39m_stateless_fn(\u001b[39m*\u001b[39margs, \u001b[39m*\u001b[39m\u001b[39m*\u001b[39mkwds)  \u001b[39m# pylint: disable=not-callable\u001b[39;00m\n\u001b[0;32m    948\u001b[0m \u001b[39melif\u001b[39;00m \u001b[39mself\u001b[39m\u001b[39m.\u001b[39m_stateful_fn \u001b[39mis\u001b[39;00m \u001b[39mnot\u001b[39;00m \u001b[39mNone\u001b[39;00m:\n\u001b[0;32m    949\u001b[0m   \u001b[39m# Release the lock early so that multiple threads can perform the call\u001b[39;00m\n\u001b[0;32m    950\u001b[0m   \u001b[39m# in parallel.\u001b[39;00m\n\u001b[0;32m    951\u001b[0m   \u001b[39mself\u001b[39m\u001b[39m.\u001b[39m_lock\u001b[39m.\u001b[39mrelease()\n",
            "File \u001b[1;32mc:\\Users\\David\\anaconda3\\lib\\site-packages\\tensorflow\\python\\eager\\function.py:2496\u001b[0m, in \u001b[0;36mFunction.__call__\u001b[1;34m(self, *args, **kwargs)\u001b[0m\n\u001b[0;32m   2493\u001b[0m \u001b[39mwith\u001b[39;00m \u001b[39mself\u001b[39m\u001b[39m.\u001b[39m_lock:\n\u001b[0;32m   2494\u001b[0m   (graph_function,\n\u001b[0;32m   2495\u001b[0m    filtered_flat_args) \u001b[39m=\u001b[39m \u001b[39mself\u001b[39m\u001b[39m.\u001b[39m_maybe_define_function(args, kwargs)\n\u001b[1;32m-> 2496\u001b[0m \u001b[39mreturn\u001b[39;00m graph_function\u001b[39m.\u001b[39;49m_call_flat(\n\u001b[0;32m   2497\u001b[0m     filtered_flat_args, captured_inputs\u001b[39m=\u001b[39;49mgraph_function\u001b[39m.\u001b[39;49mcaptured_inputs)\n",
            "File \u001b[1;32mc:\\Users\\David\\anaconda3\\lib\\site-packages\\tensorflow\\python\\eager\\function.py:1862\u001b[0m, in \u001b[0;36mConcreteFunction._call_flat\u001b[1;34m(self, args, captured_inputs, cancellation_manager)\u001b[0m\n\u001b[0;32m   1858\u001b[0m possible_gradient_type \u001b[39m=\u001b[39m gradients_util\u001b[39m.\u001b[39mPossibleTapeGradientTypes(args)\n\u001b[0;32m   1859\u001b[0m \u001b[39mif\u001b[39;00m (possible_gradient_type \u001b[39m==\u001b[39m gradients_util\u001b[39m.\u001b[39mPOSSIBLE_GRADIENT_TYPES_NONE\n\u001b[0;32m   1860\u001b[0m     \u001b[39mand\u001b[39;00m executing_eagerly):\n\u001b[0;32m   1861\u001b[0m   \u001b[39m# No tape is watching; skip to running the function.\u001b[39;00m\n\u001b[1;32m-> 1862\u001b[0m   \u001b[39mreturn\u001b[39;00m \u001b[39mself\u001b[39m\u001b[39m.\u001b[39m_build_call_outputs(\u001b[39mself\u001b[39;49m\u001b[39m.\u001b[39;49m_inference_function\u001b[39m.\u001b[39;49mcall(\n\u001b[0;32m   1863\u001b[0m       ctx, args, cancellation_manager\u001b[39m=\u001b[39;49mcancellation_manager))\n\u001b[0;32m   1864\u001b[0m forward_backward \u001b[39m=\u001b[39m \u001b[39mself\u001b[39m\u001b[39m.\u001b[39m_select_forward_and_backward_functions(\n\u001b[0;32m   1865\u001b[0m     args,\n\u001b[0;32m   1866\u001b[0m     possible_gradient_type,\n\u001b[0;32m   1867\u001b[0m     executing_eagerly)\n\u001b[0;32m   1868\u001b[0m forward_function, args_with_tangents \u001b[39m=\u001b[39m forward_backward\u001b[39m.\u001b[39mforward()\n",
            "File \u001b[1;32mc:\\Users\\David\\anaconda3\\lib\\site-packages\\tensorflow\\python\\eager\\function.py:499\u001b[0m, in \u001b[0;36m_EagerDefinedFunction.call\u001b[1;34m(self, ctx, args, cancellation_manager)\u001b[0m\n\u001b[0;32m    497\u001b[0m \u001b[39mwith\u001b[39;00m _InterpolateFunctionError(\u001b[39mself\u001b[39m):\n\u001b[0;32m    498\u001b[0m   \u001b[39mif\u001b[39;00m cancellation_manager \u001b[39mis\u001b[39;00m \u001b[39mNone\u001b[39;00m:\n\u001b[1;32m--> 499\u001b[0m     outputs \u001b[39m=\u001b[39m execute\u001b[39m.\u001b[39;49mexecute(\n\u001b[0;32m    500\u001b[0m         \u001b[39mstr\u001b[39;49m(\u001b[39mself\u001b[39;49m\u001b[39m.\u001b[39;49msignature\u001b[39m.\u001b[39;49mname),\n\u001b[0;32m    501\u001b[0m         num_outputs\u001b[39m=\u001b[39;49m\u001b[39mself\u001b[39;49m\u001b[39m.\u001b[39;49m_num_outputs,\n\u001b[0;32m    502\u001b[0m         inputs\u001b[39m=\u001b[39;49margs,\n\u001b[0;32m    503\u001b[0m         attrs\u001b[39m=\u001b[39;49mattrs,\n\u001b[0;32m    504\u001b[0m         ctx\u001b[39m=\u001b[39;49mctx)\n\u001b[0;32m    505\u001b[0m   \u001b[39melse\u001b[39;00m:\n\u001b[0;32m    506\u001b[0m     outputs \u001b[39m=\u001b[39m execute\u001b[39m.\u001b[39mexecute_with_cancellation(\n\u001b[0;32m    507\u001b[0m         \u001b[39mstr\u001b[39m(\u001b[39mself\u001b[39m\u001b[39m.\u001b[39msignature\u001b[39m.\u001b[39mname),\n\u001b[0;32m    508\u001b[0m         num_outputs\u001b[39m=\u001b[39m\u001b[39mself\u001b[39m\u001b[39m.\u001b[39m_num_outputs,\n\u001b[1;32m   (...)\u001b[0m\n\u001b[0;32m    511\u001b[0m         ctx\u001b[39m=\u001b[39mctx,\n\u001b[0;32m    512\u001b[0m         cancellation_manager\u001b[39m=\u001b[39mcancellation_manager)\n",
            "File \u001b[1;32mc:\\Users\\David\\anaconda3\\lib\\site-packages\\tensorflow\\python\\eager\\execute.py:54\u001b[0m, in \u001b[0;36mquick_execute\u001b[1;34m(op_name, num_outputs, inputs, attrs, ctx, name)\u001b[0m\n\u001b[0;32m     52\u001b[0m \u001b[39mtry\u001b[39;00m:\n\u001b[0;32m     53\u001b[0m   ctx\u001b[39m.\u001b[39mensure_initialized()\n\u001b[1;32m---> 54\u001b[0m   tensors \u001b[39m=\u001b[39m pywrap_tfe\u001b[39m.\u001b[39;49mTFE_Py_Execute(ctx\u001b[39m.\u001b[39;49m_handle, device_name, op_name,\n\u001b[0;32m     55\u001b[0m                                       inputs, attrs, num_outputs)\n\u001b[0;32m     56\u001b[0m \u001b[39mexcept\u001b[39;00m core\u001b[39m.\u001b[39m_NotOkStatusException \u001b[39mas\u001b[39;00m e:\n\u001b[0;32m     57\u001b[0m   \u001b[39mif\u001b[39;00m name \u001b[39mis\u001b[39;00m \u001b[39mnot\u001b[39;00m \u001b[39mNone\u001b[39;00m:\n",
            "\u001b[1;31mKeyboardInterrupt\u001b[0m: "
          ]
        }
      ],
      "source": [
        "## TRAIN THE MODEL\n",
        "\n",
        "# Define the callbacks.\n",
        "reduce_lr = tf.keras.callbacks.ReduceLROnPlateau(patience=3)\n",
        "early_stopping = tf.keras.callbacks.EarlyStopping(\n",
        "    patience=10, restore_best_weights=True\n",
        ")\n",
        "model_checkpoint = tf.keras.callbacks.ModelCheckpoint(\n",
        "    filepath='my_best_model.epoch{epoch:02d}-accuracy{val_accuracy:.2f}.hdf5',\n",
        "    save_weights_only=True,\n",
        "    monitor='val_accuracy',\n",
        "    mode='max',\n",
        "    save_best_only=True)\n",
        "\n",
        "# Initialize SWA from tf-hub.\n",
        "SWA = tfa.optimizers.SWA\n",
        "\n",
        "# Compile and train the teacher model.\n",
        "teacher_model = get_training_model()\n",
        "teacher_model.load_weights(\"initial_teacher_model.h5\")\n",
        "teacher_model.compile(\n",
        "    # Notice that we are wrapping our optimizer within SWA\n",
        "    optimizer=SWA(tf.keras.optimizers.Adam()),\n",
        "    loss=tf.keras.losses.CategoricalCrossentropy(from_logits=True),\n",
        "    metrics=[\"accuracy\"],\n",
        ")\n",
        "history = teacher_model.fit(\n",
        "    train_noisy_ds,\n",
        "    epochs=EPOCHS,\n",
        "    validation_data=validation_ds,\n",
        "    callbacks=[reduce_lr, early_stopping,model_checkpoint],\n",
        ")"
      ]
    },
    {
      "cell_type": "code",
      "execution_count": null,
      "metadata": {
        "id": "7RN5RNsZo_8R"
      },
      "outputs": [],
      "source": [
        "# plot the training loss and accuracy\n",
        "plt.style.use(\"ggplot\")\n",
        "plt.figure()\n",
        "plt.plot(history.history[\"loss\"], label=\"train_loss\")\n",
        "plt.plot(history.history[\"val_loss\"], label=\"val_loss\")\n",
        "plt.plot(history.history[\"accuracy\"], label=\"train_acc\")\n",
        "plt.plot(history.history[\"val_accuracy\"], label=\"val_acc\")\n",
        "plt.title(\"Training Loss and Accuracy on Dataset\")\n",
        "plt.xlabel(\"Epoch #\")\n",
        "plt.ylabel(\"Loss/Accuracy\")\n",
        "plt.legend(loc=\"lower left\")"
      ]
    },
    {
      "cell_type": "code",
      "execution_count": null,
      "metadata": {
        "id": "WYUWgzqvo_8R"
      },
      "outputs": [],
      "source": [
        "# Evaluate the teacher model on the test set.\n",
        "_, acc = teacher_model.evaluate(test_ds, verbose=0)\n",
        "print(f\"Test accuracy: {acc*100}%\")"
      ]
    }
  ],
  "metadata": {
    "accelerator": "GPU",
    "colab": {
      "collapsed_sections": [],
      "provenance": [],
      "include_colab_link": true
    },
    "kernelspec": {
      "display_name": "Python 3.9.12 ('base')",
      "language": "python",
      "name": "python3"
    },
    "language_info": {
      "codemirror_mode": {
        "name": "ipython",
        "version": 3
      },
      "file_extension": ".py",
      "mimetype": "text/x-python",
      "name": "python",
      "nbconvert_exporter": "python",
      "pygments_lexer": "ipython3",
      "version": "3.9.12"
    },
    "vscode": {
      "interpreter": {
        "hash": "84d8cac4d95fdd2ab02498a6ec40a50cb9882041e67cb52e6d8bcfda00d28db9"
      }
    }
  },
  "nbformat": 4,
  "nbformat_minor": 0
}